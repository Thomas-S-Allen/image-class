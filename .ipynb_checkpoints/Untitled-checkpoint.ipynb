{
 "cells": [
  {
   "cell_type": "markdown",
   "metadata": {},
   "source": [
    "# Learning Pandas"
   ]
  },
  {
   "cell_type": "markdown",
   "metadata": {},
   "source": [
    "This is a quick sheet to get more used to writing in Jupyter notebooks.  While I like Sublime Text better... I need to get over it and learn the shortcurts for Jupyter Notebooks.  So, here's some overkill notes for learning pandas and other bits."
   ]
  },
  {
   "cell_type": "markdown",
   "metadata": {},
   "source": [
    "### A review of Lambda\n",
    "\n",
    "To get through data munging faster, ```lambda``` functions define a function in a single line of code.  Some functions need more room, but as a rule of thumb, if it looks like something you could do in Excel, use a lambda.  \n",
    "\n",
    "Below is an example of basic Lambda syntax:"
   ]
  }
 ],
 "metadata": {
  "kernelspec": {
   "display_name": "Python 3",
   "language": "python",
   "name": "python3"
  },
  "language_info": {
   "codemirror_mode": {
    "name": "ipython",
    "version": 3
   },
   "file_extension": ".py",
   "mimetype": "text/x-python",
   "name": "python",
   "nbconvert_exporter": "python",
   "pygments_lexer": "ipython3",
   "version": "3.6.6"
  }
 },
 "nbformat": 4,
 "nbformat_minor": 2
}
